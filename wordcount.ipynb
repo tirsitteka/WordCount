{
 "cells": [
  {
   "cell_type": "code",
   "execution_count": 2,
   "metadata": {},
   "outputs": [
    {
     "name": "stdout",
     "output_type": "stream",
     "text": [
      "The file king.txt has about 272 words.\n"
     ]
    }
   ],
   "source": [
    "filename = 'king.txt'\n",
    "\n",
    "try:\n",
    "    with open(filename, encoding = 'utf-8') as file:\n",
    "        contents = file.read()\n",
    "except FileNotFoundError:\n",
    "    errmsg = \"Sorry, the file \" + filename + \" does not exist.\"\n",
    "    print(errmsg)\n",
    "    \n",
    "else:\n",
    "    words = contents.split()\n",
    "    num_words = len(words)\n",
    "    print(\"The file \" + filepath + \" has about \" + str(num_words) + \" words.\")\n"
   ]
  }
 ],
 "metadata": {
  "kernelspec": {
   "display_name": "Python 3",
   "language": "python",
   "name": "python3"
  },
  "language_info": {
   "codemirror_mode": {
    "name": "ipython",
    "version": 3
   },
   "file_extension": ".py",
   "mimetype": "text/x-python",
   "name": "python",
   "nbconvert_exporter": "python",
   "pygments_lexer": "ipython3",
   "version": "3.7.3"
  }
 },
 "nbformat": 4,
 "nbformat_minor": 2
}
